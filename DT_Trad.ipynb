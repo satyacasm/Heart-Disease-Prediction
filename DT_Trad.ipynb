{
 "cells": [
  {
   "cell_type": "code",
   "execution_count": 2,
   "metadata": {},
   "outputs": [
    {
     "name": "stdout",
     "output_type": "stream",
     "text": [
      "Accuracy: 0.8956521739130435\n",
      "Precision: 0.9052052920907967\n",
      "Recall: 0.8956521739130435\n",
      "F1 Score: 0.8960956680129881\n",
      "ROC AUC Score: 0.9030769230769231\n"
     ]
    },
    {
     "name": "stderr",
     "output_type": "stream",
     "text": [
      "/tmp/ipykernel_8656/1509649381.py:16: FutureWarning: The 'delim_whitespace' keyword in pd.read_csv is deprecated and will be removed in a future version. Use ``sep='\\s+'`` instead\n",
      "  statlog_data = pd.read_csv('heart.dat', names=[\n"
     ]
    }
   ],
   "source": [
    "# Import necessary libraries\n",
    "import pandas as pd\n",
    "import numpy as np\n",
    "from sklearn.tree import DecisionTreeClassifier\n",
    "from sklearn.model_selection import train_test_split\n",
    "from sklearn.preprocessing import StandardScaler\n",
    "from sklearn.metrics import accuracy_score, precision_score, recall_score, f1_score, roc_auc_score\n",
    "\n",
    "# Load the Cleveland Heart Disease dataset\n",
    "cleveland_data = pd.read_csv('Heart_disease_cleveland_new.csv', names=[\n",
    "    \"age\", \"sex\", \"cp\", \"trestbps\", \"chol\", \"fbs\", \"restecg\", \"thalach\", \"exang\", \"oldpeak\",\n",
    "    \"slope\", \"ca\", \"thal\", \"target\"\n",
    "], na_values='?')\n",
    "\n",
    "# Load the Statlog (Heart) dataset from a local file\n",
    "statlog_data = pd.read_csv('heart.dat', names=[\n",
    "    \"age\", \"sex\", \"cp\", \"trestbps\", \"chol\", \"fbs\", \"restecg\", \"thalach\", \"exang\", \"oldpeak\",\n",
    "    \"slope\", \"ca\", \"thal\", \"target\"\n",
    "], delim_whitespace=True)\n",
    "\n",
    "# Adjust 'slope' and 'thal' values in Statlog dataset to match Cleveland dataset\n",
    "statlog_data['slope'] = statlog_data['slope'].replace({1: 1, 2: 2, 3: 0})\n",
    "statlog_data['thal'] = statlog_data['thal'].replace({3: 1, 6: 2, 7: 3})\n",
    "statlog_data['target'] = statlog_data['target'].replace({1: 0, 2: 1})\n",
    "\n",
    "# Combine the datasets\n",
    "data = pd.concat([cleveland_data, statlog_data])\n",
    "\n",
    "# Handle missing values by dropping rows with missing values\n",
    "data.dropna(inplace=True)\n",
    "\n",
    "# Check for any non-numeric values in 'target' column\n",
    "data['target'] = pd.to_numeric(data['target'], errors='coerce')\n",
    "data.dropna(subset=['target'], inplace=True)\n",
    "\n",
    "# Convert target column to integer type\n",
    "data['target'] = data['target'].astype(int)\n",
    "\n",
    "# Split the data into features and target\n",
    "X = data.drop('target', axis=1)\n",
    "y = data['target'].apply(lambda x: 1 if x > 0 else 0)  # Convert target to binary\n",
    "\n",
    "# Normalize the features\n",
    "scaler = StandardScaler()\n",
    "X_scaled = scaler.fit_transform(X)\n",
    "\n",
    "# Split the dataset into training and testing sets\n",
    "X_train, X_test, y_train, y_test = train_test_split(X_scaled, y, test_size=0.2, random_state=42)\n",
    "\n",
    "# Define and train the Decision Tree model with default hyperparameters\n",
    "dt_model = DecisionTreeClassifier(random_state=42)\n",
    "dt_model.fit(X_train, y_train)\n",
    "\n",
    "# Predict on the test set\n",
    "y_pred = dt_model.predict(X_test)\n",
    "\n",
    "# Print the evaluation metrics\n",
    "print(f\"Accuracy: {accuracy_score(y_test, y_pred)}\")\n",
    "print(f\"Precision: {precision_score(y_test, y_pred, average='weighted')}\")\n",
    "print(f\"Recall: {recall_score(y_test, y_pred, average='weighted')}\")\n",
    "print(f\"F1 Score: {f1_score(y_test, y_pred, average='weighted')}\")\n",
    "print(f\"ROC AUC Score: {roc_auc_score(y_test, y_pred)}\")\n",
    "\n",
    "# Calculate metrics\n",
    "accuracy = accuracy_score(y_test, y_pred)\n",
    "precision = precision_score(y_test, y_pred)\n",
    "recall = recall_score(y_test, y_pred)\n",
    "f1 = f1_score(y_test, y_pred)\n",
    "\n",
    "# Append the results to the CSV file\n",
    "results = pd.DataFrame({\n",
    "    'Model': ['Decision Tree Traditional'],\n",
    "    'Accuracy': [accuracy],\n",
    "    'Precision': [precision],\n",
    "    'Recall': [recall],\n",
    "    'F1-Score': [f1]\n",
    "})\n",
    "\n",
    "results.to_csv('model_results.csv', mode='a', header=False, index=False)\n"
   ]
  }
 ],
 "metadata": {
  "kernelspec": {
   "display_name": "Python 3",
   "language": "python",
   "name": "python3"
  },
  "language_info": {
   "codemirror_mode": {
    "name": "ipython",
    "version": 3
   },
   "file_extension": ".py",
   "mimetype": "text/x-python",
   "name": "python",
   "nbconvert_exporter": "python",
   "pygments_lexer": "ipython3",
   "version": "3.10.13"
  }
 },
 "nbformat": 4,
 "nbformat_minor": 2
}
