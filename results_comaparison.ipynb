{
 "cells": [
  {
   "cell_type": "code",
   "execution_count": 9,
   "metadata": {},
   "outputs": [],
   "source": [
    "import pandas as pd\n",
    "import seaborn as sns\n",
    "import matplotlib.pyplot as plt\n",
    "\n",
    "# Load the data\n",
    "data = pd.read_csv('model_results.csv')\n",
    "\n",
    "# Prepare data for SVM vs SVM Traditional\n",
    "svm_data = data[data['Model'].str.contains('Support Vector Machine')]\n",
    "svm_data = svm_data.set_index('Model').T\n",
    "\n",
    "# Prepare data for Decision Tree vs Decision Tree Traditional\n",
    "dt_data = data[data['Model'].str.contains('Decision Tree')]\n",
    "dt_data = dt_data.set_index('Model').T\n",
    "\n",
    "# Create and save heatmap for SVM vs SVM Traditional\n",
    "plt.figure(figsize=(8, 6))\n",
    "sns.heatmap(svm_data, annot=True, cmap='coolwarm', cbar=True)\n",
    "plt.title('SVM vs SVM Traditional')\n",
    "plt.savefig('svm_vs_svm_traditional_heatmap.png')\n",
    "plt.close()\n",
    "\n",
    "# Create and save heatmap for Decision Tree vs Decision Tree Traditional\n",
    "plt.figure(figsize=(8, 6))\n",
    "sns.heatmap(dt_data, annot=True, cmap='coolwarm', cbar=True)\n",
    "plt.title('Decision Tree vs Decision Tree Traditional')\n",
    "plt.savefig('decision_tree_vs_decision_tree_traditional_heatmap.png')\n",
    "plt.close()\n"
   ]
  }
 ],
 "metadata": {
  "kernelspec": {
   "display_name": "Python 3",
   "language": "python",
   "name": "python3"
  },
  "language_info": {
   "codemirror_mode": {
    "name": "ipython",
    "version": 3
   },
   "file_extension": ".py",
   "mimetype": "text/x-python",
   "name": "python",
   "nbconvert_exporter": "python",
   "pygments_lexer": "ipython3",
   "version": "3.10.13"
  }
 },
 "nbformat": 4,
 "nbformat_minor": 2
}
