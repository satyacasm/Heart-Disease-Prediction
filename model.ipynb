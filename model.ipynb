{
 "cells": [
  {
   "cell_type": "markdown",
   "metadata": {},
   "source": [
    "Importing Libraries"
   ]
  },
  {
   "cell_type": "code",
   "execution_count": 1,
   "metadata": {},
   "outputs": [],
   "source": [
    "import pandas as pd\n",
    "import numpy as np\n",
    "from sklearn.model_selection import train_test_split\n",
    "from sklearn.preprocessing import StandardScaler\n",
    "from sklearn.metrics import accuracy_score, precision_score, recall_score, f1_score, roc_auc_score\n",
    "from sklearn.svm import SVC\n",
    "import random\n"
   ]
  },
  {
   "cell_type": "markdown",
   "metadata": {},
   "source": [
    "Loading the Cleveland Heart Disease Dataset"
   ]
  },
  {
   "cell_type": "code",
   "execution_count": 2,
   "metadata": {},
   "outputs": [
    {
     "name": "stdout",
     "output_type": "stream",
     "text": [
      "    age  sex   cp  trestbps   chol  fbs  restecg  thalach  exang  oldpeak  \\\n",
      "0  63.0  1.0  1.0     145.0  233.0  1.0      2.0    150.0    0.0      2.3   \n",
      "1  67.0  1.0  4.0     160.0  286.0  0.0      2.0    108.0    1.0      1.5   \n",
      "2  67.0  1.0  4.0     120.0  229.0  0.0      2.0    129.0    1.0      2.6   \n",
      "3  37.0  1.0  3.0     130.0  250.0  0.0      0.0    187.0    0.0      3.5   \n",
      "4  41.0  0.0  2.0     130.0  204.0  0.0      2.0    172.0    0.0      1.4   \n",
      "\n",
      "   slope   ca  thal  target  \n",
      "0    3.0  0.0   6.0       0  \n",
      "1    2.0  3.0   3.0       2  \n",
      "2    2.0  2.0   7.0       1  \n",
      "3    3.0  0.0   3.0       0  \n",
      "4    1.0  0.0   3.0       0  \n"
     ]
    }
   ],
   "source": [
    "# Load the dataset\n",
    "url = \"https://archive.ics.uci.edu/ml/machine-learning-databases/heart-disease/processed.cleveland.data\"\n",
    "column_names = [\n",
    "    \"age\", \"sex\", \"cp\", \"trestbps\", \"chol\", \"fbs\", \"restecg\", \"thalach\", \"exang\", \"oldpeak\",\n",
    "    \"slope\", \"ca\", \"thal\", \"target\"\n",
    "]\n",
    "data = pd.read_csv(url, names=column_names, na_values='?')\n",
    "\n",
    "# Display the first few rows of the dataset\n",
    "print(data.head())\n"
   ]
  },
  {
   "cell_type": "markdown",
   "metadata": {},
   "source": [
    "Data Pre-Processing"
   ]
  },
  {
   "cell_type": "code",
   "execution_count": 3,
   "metadata": {},
   "outputs": [],
   "source": [
    "# Handle missing values by dropping rows with missing values\n",
    "data.dropna(inplace=True)\n",
    "\n",
    "# Split the data into features and target\n",
    "X = data.drop('target', axis=1)\n",
    "y = data['target'].apply(lambda x: 1 if x > 0 else 0)  # Convert target to binary\n",
    "\n",
    "# Normalize the features\n",
    "scaler = StandardScaler()\n",
    "X_scaled = scaler.fit_transform(X)\n",
    "\n",
    "# Split the dataset into training and testing sets\n",
    "X_train, X_test, y_train, y_test = train_test_split(X_scaled, y, test_size=0.2, random_state=42)\n"
   ]
  },
  {
   "cell_type": "markdown",
   "metadata": {},
   "source": [
    "JellyFish Optimization Algorithm"
   ]
  },
  {
   "cell_type": "code",
   "execution_count": 6,
   "metadata": {},
   "outputs": [],
   "source": [
    "class JellyfishOptimizationAlgorithm:\n",
    "    def __init__(self, population_size, dimensions, lower_bound, upper_bound, max_iter):\n",
    "        self.population_size = population_size\n",
    "        self.dimensions = dimensions\n",
    "        self.lower_bound = lower_bound\n",
    "        self.upper_bound = upper_bound\n",
    "        self.max_iter = max_iter\n",
    "        self.population = self.initialize_population()\n",
    "\n",
    "    def initialize_population(self):\n",
    "        return np.random.uniform(self.lower_bound, self.upper_bound, (self.population_size, self.dimensions))\n",
    "\n",
    "    def fitness(self, solution):\n",
    "        # Ensure gamma is a positive value\n",
    "        C = solution[0]\n",
    "        gamma = abs(solution[1])  # Taking absolute value to ensure gamma is positive\n",
    "        model = SVC(C=C, gamma=gamma, kernel='rbf')\n",
    "        model.fit(X_train, y_train)\n",
    "        predictions = model.predict(X_train)\n",
    "        accuracy = accuracy_score(y_train, predictions)\n",
    "        return accuracy\n",
    "\n",
    "    def optimize(self):\n",
    "        best_solution = None\n",
    "        best_fitness = -1\n",
    "\n",
    "        for iteration in range(self.max_iter):\n",
    "            for individual in self.population:\n",
    "                fitness_value = self.fitness(individual)\n",
    "                if fitness_value > best_fitness:\n",
    "                    best_fitness = fitness_value\n",
    "                    best_solution = individual\n",
    "\n",
    "            # Update population\n",
    "            for i in range(self.population_size):\n",
    "                if random.random() < 0.5:\n",
    "                    self.population[i] = best_solution + np.random.uniform(-1, 1, self.dimensions)\n",
    "                else:\n",
    "                    self.population[i] = np.random.uniform(self.lower_bound, self.upper_bound, self.dimensions)\n",
    "\n",
    "        return best_solution, best_fitness\n"
   ]
  },
  {
   "cell_type": "markdown",
   "metadata": {},
   "source": [
    "Using SVM with JOA to predict heart diseases"
   ]
  },
  {
   "cell_type": "code",
   "execution_count": 7,
   "metadata": {},
   "outputs": [
    {
     "name": "stdout",
     "output_type": "stream",
     "text": [
      "Best solution (C, gamma): [34.74119704  0.76053058], Best fitness: 1.0\n",
      "Accuracy: 0.9333333333333333\n",
      "Precision: 0.8846153846153846\n",
      "Recall: 0.9583333333333334\n",
      "F1 Score: 0.92\n",
      "ROC AUC Score: 0.9375000000000001\n"
     ]
    }
   ],
   "source": [
    "# Define the bounds for C and gamma parameters of the SVM\n",
    "lower_bound = [0.1, 0.001]\n",
    "upper_bound = [100, 1]\n",
    "\n",
    "# Instantiate the Jellyfish Optimization Algorithm\n",
    "joa = JellyfishOptimizationAlgorithm(\n",
    "    population_size=30, dimensions=2, lower_bound=lower_bound, upper_bound=upper_bound, max_iter=50\n",
    ")\n",
    "\n",
    "# Optimize the SVM parameters using JOA\n",
    "best_solution, best_fitness = joa.optimize()\n",
    "print(f\"Best solution (C, gamma): {best_solution}, Best fitness: {best_fitness}\")\n",
    "\n",
    "# Train the SVM model with the best parameters\n",
    "model = SVC(C=best_solution[0], gamma=best_solution[1], kernel='rbf')\n",
    "model.fit(X_train, y_train)\n",
    "\n",
    "# Evaluate the model\n",
    "y_pred = model.predict(X_test)\n",
    "print(f\"Accuracy: {accuracy_score(y_test, y_pred)}\")\n",
    "print(f\"Precision: {precision_score(y_test, y_pred)}\")\n",
    "print(f\"Recall: {recall_score(y_test, y_pred)}\")\n",
    "print(f\"F1 Score: {f1_score(y_test, y_pred)}\")\n",
    "print(f\"ROC AUC Score: {roc_auc_score(y_test, y_pred)}\")\n"
   ]
  }
 ],
 "metadata": {
  "kernelspec": {
   "display_name": "Python 3",
   "language": "python",
   "name": "python3"
  },
  "language_info": {
   "codemirror_mode": {
    "name": "ipython",
    "version": 3
   },
   "file_extension": ".py",
   "mimetype": "text/x-python",
   "name": "python",
   "nbconvert_exporter": "python",
   "pygments_lexer": "ipython3",
   "version": "3.10.13"
  }
 },
 "nbformat": 4,
 "nbformat_minor": 2
}
