{
 "cells": [
  {
   "cell_type": "code",
   "execution_count": 2,
   "metadata": {},
   "outputs": [
    {
     "name": "stderr",
     "output_type": "stream",
     "text": [
      "/tmp/ipykernel_5797/1358935721.py:20: FutureWarning: The 'delim_whitespace' keyword in pd.read_csv is deprecated and will be removed in a future version. Use ``sep='\\s+'`` instead\n",
      "  statlog_data = pd.read_csv(statlog_url, names=statlog_column_names, delim_whitespace=True)\n"
     ]
    },
    {
     "name": "stdout",
     "output_type": "stream",
     "text": [
      "Accuracy: 0.8173913043478261\n",
      "Precision: 0.7959183673469388\n",
      "Recall: 0.78\n",
      "F1 Score: 0.7878787878787878\n",
      "ROC AUC Score: 0.8130769230769231\n"
     ]
    }
   ],
   "source": [
    "import pandas as pd\n",
    "import numpy as np\n",
    "from sklearn.model_selection import train_test_split\n",
    "from sklearn.preprocessing import StandardScaler\n",
    "from sklearn.metrics import accuracy_score, precision_score, recall_score, f1_score, roc_auc_score\n",
    "from sklearn.svm import SVC\n",
    "\n",
    "# Load the Cleveland Heart Disease dataset\n",
    "cleveland_data = pd.read_csv('Heart_disease_cleveland_new.csv', names=[\n",
    "    \"age\", \"sex\", \"cp\", \"trestbps\", \"chol\", \"fbs\", \"restecg\", \"thalach\", \"exang\", \"oldpeak\",\n",
    "    \"slope\", \"ca\", \"thal\", \"target\"\n",
    "], na_values='?')\n",
    "\n",
    "# Load the Statlog (Heart) dataset\n",
    "statlog_url = \"https://archive.ics.uci.edu/ml/machine-learning-databases/statlog/heart/heart.dat\"\n",
    "statlog_column_names = [\n",
    "    \"age\", \"sex\", \"cp\", \"trestbps\", \"chol\", \"fbs\", \"restecg\", \"thalach\", \"exang\", \"oldpeak\",\n",
    "    \"slope\", \"ca\", \"thal\", \"target\"\n",
    "]\n",
    "statlog_data = pd.read_csv(statlog_url, names=statlog_column_names, delim_whitespace=True)\n",
    "# Adjust 'slope' and 'thal' values in Statlog dataset to match Cleveland dataset\n",
    "statlog_data['slope'] = statlog_data['slope'].replace({1: 1, 2: 2, 3: 0})\n",
    "statlog_data['thal'] = statlog_data['thal'].replace({3: 1, 6: 2, 7: 3})\n",
    "statlog_data['target'] = statlog_data['target'].replace({1: 0, 2: 1})\n",
    "\n",
    "# Combine the datasets\n",
    "data = pd.concat([cleveland_data, statlog_data])\n",
    "\n",
    "# Data Pre-Processing\n",
    "data['target'] = pd.to_numeric(data['target'], errors='coerce')\n",
    "data.dropna(inplace=True)\n",
    "data['target'] = data['target'].astype(int)\n",
    "\n",
    "# Split the data into features and target\n",
    "X = data.drop('target', axis=1)\n",
    "y = data['target'].apply(lambda x: 1 if x > 0 else 0)  # Convert target to binary\n",
    "\n",
    "# Normalize the features\n",
    "scaler = StandardScaler()\n",
    "X_scaled = scaler.fit_transform(X)\n",
    "\n",
    "# Split the dataset into training and testing sets\n",
    "X_train, X_test, y_train, y_test = train_test_split(X_scaled, y, test_size=0.2, random_state=42)\n",
    "\n",
    "# Define and train the SVM model with fixed hyperparameters\n",
    "model = SVC(C=1.0, gamma='scale', kernel='rbf')  # Adjust C and gamma as needed\n",
    "model.fit(X_train, y_train)\n",
    "\n",
    "# Predict and evaluate the model\n",
    "y_pred = model.predict(X_test)\n",
    "print(f\"Accuracy: {accuracy_score(y_test, y_pred)}\")\n",
    "print(f\"Precision: {precision_score(y_test, y_pred)}\")\n",
    "print(f\"Recall: {recall_score(y_test, y_pred)}\")\n",
    "print(f\"F1 Score: {f1_score(y_test, y_pred)}\")\n",
    "print(f\"ROC AUC Score: {roc_auc_score(y_test, y_pred)}\")\n",
    "\n",
    "# Calculate metrics\n",
    "accuracy = accuracy_score(y_test, y_pred)\n",
    "precision = precision_score(y_test, y_pred)\n",
    "recall = recall_score(y_test, y_pred)\n",
    "f1 = f1_score(y_test, y_pred)\n",
    "\n",
    "# Append the results to the CSV file\n",
    "results = pd.DataFrame({\n",
    "    'Model': ['Support Vector Machine Traditional'],\n",
    "    'Accuracy': [accuracy],\n",
    "    'Precision': [precision],\n",
    "    'Recall': [recall],\n",
    "    'F1-Score': [f1]\n",
    "})\n",
    "\n",
    "results.to_csv('model_results.csv', mode='a', header=False, index=False)\n"
   ]
  }
 ],
 "metadata": {
  "kernelspec": {
   "display_name": "Python 3",
   "language": "python",
   "name": "python3"
  },
  "language_info": {
   "codemirror_mode": {
    "name": "ipython",
    "version": 3
   },
   "file_extension": ".py",
   "mimetype": "text/x-python",
   "name": "python",
   "nbconvert_exporter": "python",
   "pygments_lexer": "ipython3",
   "version": "3.10.13"
  }
 },
 "nbformat": 4,
 "nbformat_minor": 2
}
